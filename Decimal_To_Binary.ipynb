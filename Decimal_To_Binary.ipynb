{
 "cells": [
  {
   "cell_type": "markdown",
   "metadata": {},
   "source": [
    "## Prompt\n",
    "#### Create a function that:\n",
    "1. Takes a decimal number as a parameter\n",
    "2. Converts the decimal nubmer into a binary number\n",
    "3. Returns the binary number\n",
    "\n",
    "## Python knowledge used\n",
    "1. Variable Creation / Initialization\n",
    "2. Value assignment\n",
    "3. Loop / Loop Control\n",
    "4. (Ternary) if-else statement\n",
    "\n",
    "## Steps\n",
    "1. Save the decimal number into a variable\n",
    "2. Create an empty variable to save binary\n",
    "3. If the value is 0, return it as a binary number\n",
    "4. Append the remainder of decimal / 2 to t"
   ]
  },
  {
   "cell_type": "code",
   "execution_count": 66,
   "metadata": {},
   "outputs": [],
   "source": [
    "def dec_to_bin(x):\n",
    "    decimal = x\n",
    "    binary = ''\n",
    "    while decimal != 0:\n",
    "        binary += str(decimal % 2)\n",
    "        decimal = decimal // 2\n",
    "    return 0 if binary == '' else int(binary[::-1])"
   ]
  },
  {
   "cell_type": "code",
   "execution_count": 69,
   "metadata": {},
   "outputs": [
    {
     "data": {
      "text/plain": [
       "1000000"
      ]
     },
     "execution_count": 69,
     "metadata": {},
     "output_type": "execute_result"
    }
   ],
   "source": [
    "dec_to_bin(64)"
   ]
  }
 ],
 "metadata": {
  "kernelspec": {
   "display_name": "Python 3",
   "language": "python",
   "name": "python3"
  },
  "language_info": {
   "codemirror_mode": {
    "name": "ipython",
    "version": 3
   },
   "file_extension": ".py",
   "mimetype": "text/x-python",
   "name": "python",
   "nbconvert_exporter": "python",
   "pygments_lexer": "ipython3",
   "version": "3.6.5"
  }
 },
 "nbformat": 4,
 "nbformat_minor": 2
}
