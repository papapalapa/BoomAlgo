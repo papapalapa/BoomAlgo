{
 "cells": [
  {
   "cell_type": "markdown",
   "metadata": {},
   "source": [
    "## Prompt\n",
    "#### Create a function that:\n",
    "1. Takes a list as a parameter\n",
    "2. Returns the smallest number in the list\n",
    "\n",
    "## Python knowledge used\n",
    "1. Variable Creation / Initialization\n",
    "2. Value assignment\n",
    "3. Loop / Loop Control\n",
    "4. Length\n",
    "5. Range\n",
    "6. Comparison Operator\n",
    "\n",
    "## Steps\n",
    "1. Create a variable that would contain the smallest number\n",
    "2. Initialize with the first value in the list for comparison\n",
    "3. Loop through the list\n",
    "4. For each element in the list:\n",
    " - If the element is smaller than the current minimum, replace it.\n",
    " - Else continue to the next iteration"
   ]
  },
  {
   "cell_type": "code",
   "execution_count": 3,
   "metadata": {},
   "outputs": [],
   "source": [
    "def findMax(dataset):\n",
    "    mn = dataset[0]\n",
    "    for i in dataset:\n",
    "        if i < mn:\n",
    "            mn = i\n",
    "        else:\n",
    "            continue\n",
    "    return mn"
   ]
  },
  {
   "cell_type": "code",
   "execution_count": 4,
   "metadata": {},
   "outputs": [
    {
     "data": {
      "text/plain": [
       "-123"
      ]
     },
     "execution_count": 4,
     "metadata": {},
     "output_type": "execute_result"
    }
   ],
   "source": [
    "test = [-90, -123, 1, 5, 900, 10, 20, 3]\n",
    "findMax(test)"
   ]
  }
 ],
 "metadata": {
  "kernelspec": {
   "display_name": "Python 3",
   "language": "python",
   "name": "python3"
  },
  "language_info": {
   "codemirror_mode": {
    "name": "ipython",
    "version": 3
   },
   "file_extension": ".py",
   "mimetype": "text/x-python",
   "name": "python",
   "nbconvert_exporter": "python",
   "pygments_lexer": "ipython3",
   "version": "3.6.5"
  }
 },
 "nbformat": 4,
 "nbformat_minor": 2
}
