{
 "cells": [
  {
   "cell_type": "markdown",
   "metadata": {},
   "source": [
    "## Prompt\n",
    "#### Create a function that:\n",
    "1. Takes a list as a parameter\n",
    "2. Returns the greatest number in the list\n",
    "\n",
    "## Python knowledge used\n",
    "1. Variable Creation / Initialization\n",
    "2. Value assignment\n",
    "3. Loop / Loop Control\n",
    "4. Length\n",
    "5. Range\n",
    "6. Comparison Operator\n",
    "\n",
    "## Steps\n",
    "1. Create a variable that would contain the greatest number\n",
    "2. Initialize with the first value in the list for comparison\n",
    "3. Loop through the list\n",
    "4. For each element in the list:\n",
    " - If the element is greater than the current maximum, replace it.\n",
    " - Else continue to the next iteration"
   ]
  },
  {
   "cell_type": "code",
   "execution_count": 16,
   "metadata": {},
   "outputs": [],
   "source": [
    "def findMax(dataset):\n",
    "    mx = dataset[0]\n",
    "    for i in dataset:\n",
    "        if i > mx:\n",
    "            mx = i\n",
    "        else:\n",
    "            continue\n",
    "    return mx"
   ]
  },
  {
   "cell_type": "code",
   "execution_count": 18,
   "metadata": {},
   "outputs": [
    {
     "data": {
      "text/plain": [
       "900"
      ]
     },
     "execution_count": 18,
     "metadata": {},
     "output_type": "execute_result"
    }
   ],
   "source": [
    "test = [-1, 1, 5, 900, 10, 20, 3]\n",
    "findMax(test)"
   ]
  }
 ],
 "metadata": {
  "kernelspec": {
   "display_name": "Python 3",
   "language": "python",
   "name": "python3"
  },
  "language_info": {
   "codemirror_mode": {
    "name": "ipython",
    "version": 3
   },
   "file_extension": ".py",
   "mimetype": "text/x-python",
   "name": "python",
   "nbconvert_exporter": "python",
   "pygments_lexer": "ipython3",
   "version": "3.6.5"
  }
 },
 "nbformat": 4,
 "nbformat_minor": 2
}
