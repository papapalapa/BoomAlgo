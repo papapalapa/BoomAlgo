{
 "cells": [
  {
   "cell_type": "markdown",
   "metadata": {},
   "source": [
    "## Concept\n",
    "![Bubble Sort Diagram](https://cdn-images-1.medium.com/max/1600/1*7QsZkfrRGhAu5yxxeDdzsA.png)\n"
   ]
  },
  {
   "cell_type": "code",
   "execution_count": 2,
   "metadata": {},
   "outputs": [],
   "source": [
    "def bubbleSort(dataset):\n",
    "    for i in range(len(dataset)-1, 0, -1):\n",
    "        for j in range(i):\n",
    "            if dataset[j] > dataset[j+1]:\n",
    "                tmp = dataset[j]\n",
    "                dataset[j] = dataset[j+1]\n",
    "                dataset[j+1] = tmp\n",
    "    return dataset"
   ]
  },
  {
   "cell_type": "code",
   "execution_count": 3,
   "metadata": {},
   "outputs": [
    {
     "name": "stdout",
     "output_type": "stream",
     "text": [
      "Length: 7\n"
     ]
    },
    {
     "data": {
      "text/plain": [
       "[-1, 1, 2, 3, 4, 7, 7]"
      ]
     },
     "execution_count": 3,
     "metadata": {},
     "output_type": "execute_result"
    }
   ],
   "source": [
    "data = [1, 2, 7, -1, 7, 3, 4,]\n",
    "print(\"Length:\", len(data))\n",
    "bubbleSort([1, 2, 7, -1, 7, 3, 4,]) # Length "
   ]
  }
 ],
 "metadata": {
  "kernelspec": {
   "display_name": "Python 3",
   "language": "python",
   "name": "python3"
  },
  "language_info": {
   "codemirror_mode": {
    "name": "ipython",
    "version": 3
   },
   "file_extension": ".py",
   "mimetype": "text/x-python",
   "name": "python",
   "nbconvert_exporter": "python",
   "pygments_lexer": "ipython3",
   "version": "3.6.5"
  }
 },
 "nbformat": 4,
 "nbformat_minor": 2
}
