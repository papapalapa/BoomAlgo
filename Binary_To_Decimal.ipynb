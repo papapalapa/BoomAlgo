{
 "cells": [
  {
   "cell_type": "markdown",
   "metadata": {},
   "source": [
    "## Prompt\n",
    "#### Create a function that:\n",
    "1. Takes a binary number as a parameter\n",
    "2. Converts the binary nubmer into a decimal number\n",
    "3. Returns the decimal number\n",
    "\n",
    "## Python knowledge used\n",
    "1. Variable Creation / Initialization\n",
    "2. Value assignment\n",
    "3. Loop / Loop Control\n",
    "4. (Ternary) if-else statement\n",
    "5. Length + Range\n",
    "6. Type conversion\n",
    "\n",
    "## Steps\n",
    "1. Save the binary number into a variable\n",
    "2. Create an empty variable to save decimal and initialize it with 0\n",
    "3. Create a variable for tracking the position of current iteration and initialize it with the length of the binary number\n",
    "4. Create a variable for the digit's value at current iteration\n",
    "6. Loop for the length of the binary number\n",
    "7. For each iteration: \n",
    "  - (a) add the product of current position's value and the digit's value to the decimal variable\n",
    "  - (b) increment the digitValue by a factor of 2\n",
    "  - (c) decrease the position value by 1"
   ]
  },
  {
   "cell_type": "code",
   "execution_count": 76,
   "metadata": {},
   "outputs": [],
   "source": [
    "def bin_to_dec(bin):\n",
    "    binary = str(bin)\n",
    "    decimal = 0\n",
    "    digitNum = len(binary)\n",
    "    digitValue = 1\n",
    "    for i in range(digitNum):\n",
    "        decimal += int(binary[digitNum -1]) * digitValue\n",
    "        digitValue *= 2\n",
    "        digitNum -= 1\n",
    "    return decimal"
   ]
  },
  {
   "cell_type": "code",
   "execution_count": 78,
   "metadata": {},
   "outputs": [
    {
     "data": {
      "text/plain": [
       "5709834901"
      ]
     },
     "execution_count": 78,
     "metadata": {},
     "output_type": "execute_result"
    }
   ],
   "source": [
    "bin_to_dec(101010100010101010010101010010101)"
   ]
  }
 ],
 "metadata": {
  "kernelspec": {
   "display_name": "Python 3",
   "language": "python",
   "name": "python3"
  },
  "language_info": {
   "codemirror_mode": {
    "name": "ipython",
    "version": 3
   },
   "file_extension": ".py",
   "mimetype": "text/x-python",
   "name": "python",
   "nbconvert_exporter": "python",
   "pygments_lexer": "ipython3",
   "version": "3.6.5"
  }
 },
 "nbformat": 4,
 "nbformat_minor": 2
}
