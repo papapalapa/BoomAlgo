{
 "cells": [
  {
   "cell_type": "markdown",
   "metadata": {},
   "source": [
    "## Concept\n",
    "![Bubble Sort Diagram](http://interactivepython.org/runestone/static/pythonds/_images/selectionsortnew.png)\n"
   ]
  },
  {
   "cell_type": "code",
   "execution_count": 56,
   "metadata": {},
   "outputs": [],
   "source": [
    "def selectionSort(dataset):\n",
    "    for i in range(len(dataset)-1, 0, -1):\n",
    "        maxIndex = 0\n",
    "        for j in range(i):\n",
    "            if dataset[j] > dataset[maxIndex]:\n",
    "                maxIndex = j\n",
    "                \n",
    "        print(dataset, \"Max Index:\", maxIndex)\n",
    "        tmp = dataset[i]\n",
    "        dataset[i] = dataset[maxIndex]\n",
    "        dataset[maxIndex] = tmp\n",
    "    return dataset"
   ]
  },
  {
   "cell_type": "code",
   "execution_count": 57,
   "metadata": {},
   "outputs": [
    {
     "name": "stdout",
     "output_type": "stream",
     "text": [
      "Length: 15\n",
      "[26, 54, 93, 1, 2, 3, 4, 5, 17, 77, 77, 31, 44, 55, 20] Max Index: 2\n",
      "[26, 54, 20, 1, 2, 3, 4, 5, 17, 77, 77, 31, 44, 55, 93] Max Index: 9\n",
      "[26, 54, 20, 1, 2, 3, 4, 5, 17, 55, 77, 31, 44, 77, 93] Max Index: 10\n",
      "[26, 54, 20, 1, 2, 3, 4, 5, 17, 55, 44, 31, 77, 77, 93] Max Index: 9\n",
      "[26, 54, 20, 1, 2, 3, 4, 5, 17, 31, 44, 55, 77, 77, 93] Max Index: 1\n",
      "[26, 44, 20, 1, 2, 3, 4, 5, 17, 31, 54, 55, 77, 77, 93] Max Index: 1\n",
      "[26, 31, 20, 1, 2, 3, 4, 5, 17, 44, 54, 55, 77, 77, 93] Max Index: 1\n",
      "[26, 17, 20, 1, 2, 3, 4, 5, 31, 44, 54, 55, 77, 77, 93] Max Index: 0\n",
      "[5, 17, 20, 1, 2, 3, 4, 26, 31, 44, 54, 55, 77, 77, 93] Max Index: 2\n",
      "[5, 17, 4, 1, 2, 3, 20, 26, 31, 44, 54, 55, 77, 77, 93] Max Index: 1\n",
      "[5, 3, 4, 1, 2, 17, 20, 26, 31, 44, 54, 55, 77, 77, 93] Max Index: 0\n",
      "[2, 3, 4, 1, 5, 17, 20, 26, 31, 44, 54, 55, 77, 77, 93] Max Index: 2\n",
      "[2, 3, 1, 4, 5, 17, 20, 26, 31, 44, 54, 55, 77, 77, 93] Max Index: 1\n",
      "[2, 1, 3, 4, 5, 17, 20, 26, 31, 44, 54, 55, 77, 77, 93] Max Index: 0\n"
     ]
    },
    {
     "data": {
      "text/plain": [
       "[1, 2, 3, 4, 5, 17, 20, 26, 31, 44, 54, 55, 77, 77, 93]"
      ]
     },
     "execution_count": 57,
     "metadata": {},
     "output_type": "execute_result"
    }
   ],
   "source": [
    "data = [26, 54, 93,1, 2, 3, 4, 5, 17, 77, 77, 31, 44, 55, 20]\n",
    "print(\"Length:\", len(data))\n",
    "selectionSort(data)"
   ]
  }
 ],
 "metadata": {
  "kernelspec": {
   "display_name": "Python 3",
   "language": "python",
   "name": "python3"
  },
  "language_info": {
   "codemirror_mode": {
    "name": "ipython",
    "version": 3
   },
   "file_extension": ".py",
   "mimetype": "text/x-python",
   "name": "python",
   "nbconvert_exporter": "python",
   "pygments_lexer": "ipython3",
   "version": "3.6.5"
  }
 },
 "nbformat": 4,
 "nbformat_minor": 2
}
